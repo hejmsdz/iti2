{
 "cells": [
  {
   "cell_type": "code",
   "execution_count": 1,
   "metadata": {},
   "outputs": [],
   "source": [
    "import pandas\n",
    "import matplotlib.pyplot as plt\n",
    "import numpy as np\n",
    "pandas.set_option('display.max_colwidth', 200)\n",
    "np.random.seed(0xC0FFEE)"
   ]
  },
  {
   "cell_type": "code",
   "execution_count": 2,
   "metadata": {},
   "outputs": [],
   "source": [
    "# preprocessing\n",
    "\n",
    "def cleanup(tweets):\n",
    "    tweets = tweets.dropna()\n",
    "    tweets = tweets.drop(columns=['Id'])\n",
    "    tweets = tweets[tweets.Category != 'Tweet']\n",
    "    tweets = tweets[tweets.Tweet != 'Not Available']\n",
    "    tweets = tweets[tweets.Tweet != '']\n",
    "    return tweets\n",
    "\n",
    "import re\n",
    "from nltk.tokenize.casual import casual_tokenize\n",
    "from nltk.stem.porter import PorterStemmer\n",
    "from nltk.stem import WordNetLemmatizer\n",
    "from nltk.tag import pos_tag\n",
    "from nltk.corpus import stopwords\n",
    "import string\n",
    "\n",
    "stops = {'in', 'of', 'at', 'a', 'the', 'to', 'on', 'and', 'it'}\n",
    "stops.update(string.punctuation)\n",
    "stops.difference_update('?!')\n",
    "\n",
    "stemmer = PorterStemmer()\n",
    "lemmatizer = WordNetLemmatizer()\n",
    "\n",
    "def tag_for_lemmatizer(tag):\n",
    "    if tag.startswith('NN'):\n",
    "        return 'n'\n",
    "    if tag.startswith('VB'):\n",
    "        return 'v'\n",
    "    return 'a'\n",
    "\n",
    "def preprocess(text, lemmatize=True):\n",
    "    if not text or type(text) != str:\n",
    "        return ''\n",
    "\n",
    "    text = text.lower()\n",
    "    text = re.sub(r\"https?://[^\\s]+\", '', text) # hyperlinks\n",
    "    text = re.sub(r\"\\@\\w+\", '', text) # mentions\n",
    "    text = re.sub(r\"#\", '', text) # hashtags\n",
    "    text = re.sub(r\"\\d+\\w*\", '', text) # numbers\n",
    "    text = re.sub(r\"'s\", '', text) # possesive\n",
    "    text = re.sub(r\"n't\", ' not', text) # contractions\n",
    "    text = re.sub(r\"'m\", ' am', text)\n",
    "    text = re.sub(r\"'s\", ' is', text)\n",
    "    text = re.sub(r\"'re\", ' are', text)\n",
    "    \n",
    "    words = [word for word in casual_tokenize(text) if word not in stops]\n",
    "    \n",
    "    if lemmatize:\n",
    "        words = [\n",
    "            lemmatizer.lemmatize(word, tag_for_lemmatizer(tag))\n",
    "            for word, tag in pos_tag(words)\n",
    "        ]\n",
    "    else:\n",
    "        words = [\n",
    "            stemmer.stem(word)\n",
    "            for word in words\n",
    "        ]\n",
    "    text = ' '.join(words)\n",
    "    return text"
   ]
  },
  {
   "cell_type": "code",
   "execution_count": 3,
   "metadata": {},
   "outputs": [
    {
     "data": {
      "text/html": "<div>\n<style scoped>\n    .dataframe tbody tr th:only-of-type {\n        vertical-align: middle;\n    }\n\n    .dataframe tbody tr th {\n        vertical-align: top;\n    }\n\n    .dataframe thead th {\n        text-align: right;\n    }\n</style>\n<table border=\"1\" class=\"dataframe\">\n  <thead>\n    <tr style=\"text-align: right;\">\n      <th></th>\n      <th>Category</th>\n      <th>Tweet</th>\n    </tr>\n  </thead>\n  <tbody>\n    <tr>\n      <th>1</th>\n      <td>neutral</td>\n      <td>io app transport security mm need check if my party network pod support</td>\n    </tr>\n    <tr>\n      <th>2</th>\n      <td>neutral</td>\n      <td>mar if you have an ios device you should download our app too</td>\n    </tr>\n    <tr>\n      <th>3</th>\n      <td>negative</td>\n      <td>my phone do not run late io which may account for problem other day .. time be replace</td>\n    </tr>\n    <tr>\n      <th>4</th>\n      <td>positive</td>\n      <td>not sure how start your publication io ? we'll be live help with ask me anything session today friday</td>\n    </tr>\n    <tr>\n      <th>5</th>\n      <td>neutral</td>\n      <td>two dollar tuesday be here with forklift quickkey for io suite for page for just today</td>\n    </tr>\n    <tr>\n      <th>...</th>\n      <td>...</td>\n      <td>...</td>\n    </tr>\n    <tr>\n      <th>5963</th>\n      <td>positive</td>\n      <td>ok ed let do this zlatan greizmann laporte tomorrow make happen</td>\n    </tr>\n    <tr>\n      <th>5964</th>\n      <td>neutral</td>\n      <td>goal level zlatan by friday ? post every other day dsgs vine by</td>\n    </tr>\n    <tr>\n      <th>5965</th>\n      <td>neutral</td>\n      <td>would not surprise me if we enquired.he ca not be happy play fiddle zlatan but he not worth psg ask price</td>\n    </tr>\n    <tr>\n      <th>5966</th>\n      <td>neutral</td>\n      <td>rib injury for zlatan against russia be big blow if he miss austria game tuesday chance for new sunderland striker toivonen safc</td>\n    </tr>\n    <tr>\n      <th>5967</th>\n      <td>neutral</td>\n      <td>noooooo ! i be hop see zlatan be zlatan tuesday ! oh well still look forward match</td>\n    </tr>\n  </tbody>\n</table>\n<p>5421 rows × 2 columns</p>\n</div>",
      "text/plain": "      Category  \\\n1      neutral   \n2      neutral   \n3     negative   \n4     positive   \n5      neutral   \n...        ...   \n5963  positive   \n5964   neutral   \n5965   neutral   \n5966   neutral   \n5967   neutral   \n\n                                                                                                                                 Tweet  \n1                                                              io app transport security mm need check if my party network pod support  \n2                                                                        mar if you have an ios device you should download our app too  \n3                                               my phone do not run late io which may account for problem other day .. time be replace  \n4                                not sure how start your publication io ? we'll be live help with ask me anything session today friday  \n5                                               two dollar tuesday be here with forklift quickkey for io suite for page for just today  \n...                                                                                                                                ...  \n5963                                                                   ok ed let do this zlatan greizmann laporte tomorrow make happen  \n5964                                                                   goal level zlatan by friday ? post every other day dsgs vine by  \n5965                         would not surprise me if we enquired.he ca not be happy play fiddle zlatan but he not worth psg ask price  \n5966  rib injury for zlatan against russia be big blow if he miss austria game tuesday chance for new sunderland striker toivonen safc  \n5967                                                noooooo ! i be hop see zlatan be zlatan tuesday ! oh well still look forward match  \n\n[5421 rows x 2 columns]"
     },
     "execution_count": 3,
     "metadata": {},
     "output_type": "execute_result"
    }
   ],
   "source": [
    "# load train set\n",
    "\n",
    "tweets = pandas.read_csv('data/train.csv')\n",
    "tweets = cleanup(tweets)\n",
    "tweets.Tweet = tweets.Tweet.apply(preprocess, lemmatize=True)\n",
    "tweets"
   ]
  },
  {
   "cell_type": "code",
   "execution_count": 5,
   "metadata": {},
   "outputs": [],
   "source": [
    "# convert text to sequences\n",
    "\n",
    "from keras.preprocessing.text import Tokenizer\n",
    "from keras.preprocessing import sequence\n",
    "\n",
    "tokenizer = Tokenizer()\n",
    "tokenizer.fit_on_texts(tweets.Tweet)\n",
    "vocab_size = len(tokenizer.word_index) + 1\n",
    "\n",
    "sequences = tokenizer.texts_to_sequences(tweets.Tweet)"
   ]
  },
  {
   "cell_type": "code",
   "execution_count": 6,
   "metadata": {},
   "outputs": [
    {
     "data": {
      "image/png": "[encoded data removed]",
      "image/svg+xml": "<?xml version=\"1.0\" encoding=\"utf-8\" standalone=\"no\"?>\n<!DOCTYPE svg PUBLIC \"-//W3C//DTD SVG 1.1//EN\"\n  \"http://www.w3.org/Graphics/SVG/1.1/DTD/svg11.dtd\">\n<!-- Created with matplotlib (https://matplotlib.org/) -->\n<svg height=\"248.518125pt\" version=\"1.1\" viewBox=\"0 0 381.65 248.518125\" width=\"381.65pt\" xmlns=\"http://www.w3.org/2000/svg\" xmlns:xlink=\"http://www.w3.org/1999/xlink\">\n <defs>\n  <style type=\"text/css\">\n*{stroke-linecap:butt;stroke-linejoin:round;}\n  </style>\n </defs>\n <g id=\"figure_1\">\n  <g id=\"patch_1\">\n   <path d=\"M -0 248.518125 \nL 381.65 248.518125 \nL 381.65 0 \nL -0 0 \nz\n\" style=\"fill:none;\"/>\n  </g>\n  <g id=\"axes_1\">\n   <g id=\"patch_2\">\n    <path d=\"M 39.65 224.64 \nL 374.45 224.64 \nL 374.45 7.2 \nL 39.65 7.2 \nz\n\" style=\"fill:#ffffff;\"/>\n   </g>\n   <g id=\"patch_3\">\n    <path clip-path=\"url(#pef9dc67d43)\" d=\"M 54.868182 224.64 \nL 85.304545 224.64 \nL 85.304545 223.016377 \nL 54.868182 223.016377 \nz\n\" style=\"fill:#1f77b4;\"/>\n   </g>\n   <g id=\"patch_4\">\n    <path clip-path=\"url(#pef9dc67d43)\" d=\"M 85.304545 224.64 \nL 115.740909 224.64 \nL 115.740909 199.695249 \nL 85.304545 199.695249 \nz\n\" style=\"fill:#1f77b4;\"/>\n   </g>\n   <g id=\"patch_5\">\n    <path clip-path=\"url(#pef9dc67d43)\" d=\"M 115.740909 224.64 \nL 146.177273 224.64 \nL 146.177273 145.820491 \nL 115.740909 145.820491 \nz\n\" style=\"fill:#1f77b4;\"/>\n   </g>\n   <g id=\"patch_6\">\n    <path clip-path=\"url(#pef9dc67d43)\" d=\"M 146.177273 224.64 \nL 176.613636 224.64 \nL 176.613636 74.085881 \nL 146.177273 74.085881 \nz\n\" style=\"fill:#1f77b4;\"/>\n   </g>\n   <g id=\"patch_7\">\n    <path clip-path=\"url(#pef9dc67d43)\" d=\"M 176.613636 224.64 \nL 207.05 224.64 \nL 207.05 17.554286 \nL 176.613636 17.554286 \nz\n\" style=\"fill:#1f77b4;\"/>\n   </g>\n   <g id=\"patch_8\">\n    <path clip-path=\"url(#pef9dc67d43)\" d=\"M 207.05 224.64 \nL 237.486364 224.64 \nL 237.486364 32.7573 \nL 207.05 32.7573 \nz\n\" style=\"fill:#1f77b4;\"/>\n   </g>\n   <g id=\"patch_9\">\n    <path clip-path=\"url(#pef9dc67d43)\" d=\"M 237.486364 224.64 \nL 267.922727 224.64 \nL 267.922727 115.562065 \nL 237.486364 115.562065 \nz\n\" style=\"fill:#1f77b4;\"/>\n   </g>\n   <g id=\"patch_10\">\n    <path clip-path=\"url(#pef9dc67d43)\" d=\"M 267.922727 224.64 \nL 298.359091 224.64 \nL 298.359091 192.462747 \nL 267.922727 192.462747 \nz\n\" style=\"fill:#1f77b4;\"/>\n   </g>\n   <g id=\"patch_11\">\n    <path clip-path=\"url(#pef9dc67d43)\" d=\"M 298.359091 224.64 \nL 328.795455 224.64 \nL 328.795455 220.949948 \nL 298.359091 220.949948 \nz\n\" style=\"fill:#1f77b4;\"/>\n   </g>\n   <g id=\"patch_12\">\n    <path clip-path=\"url(#pef9dc67d43)\" d=\"M 328.795455 224.64 \nL 359.231818 224.64 \nL 359.231818 224.344796 \nL 328.795455 224.344796 \nz\n\" style=\"fill:#1f77b4;\"/>\n   </g>\n   <g id=\"matplotlib.axis_1\">\n    <g id=\"xtick_1\">\n     <g id=\"line2d_1\">\n      <defs>\n       <path d=\"M 0 0 \nL 0 3.5 \n\" id=\"m67163f174a\" style=\"stroke:#000000;stroke-width:0.8;\"/>\n      </defs>\n      <g>\n       <use style=\"stroke:#000000;stroke-width:0.8;\" x=\"85.304545\" xlink:href=\"#m67163f174a\" y=\"224.64\"/>\n      </g>\n     </g>\n     <g id=\"text_1\">\n      <!-- 5 -->\n      <defs>\n       <path d=\"M 10.796875 72.90625 \nL 49.515625 72.90625 \nL 49.515625 64.59375 \nL 19.828125 64.59375 \nL 19.828125 46.734375 \nQ 21.96875 47.46875 24.109375 47.828125 \nQ 26.265625 48.1875 28.421875 48.1875 \nQ 40.625 48.1875 47.75 41.5 \nQ 54.890625 34.8125 54.890625 23.390625 \nQ 54.890625 11.625 47.5625 5.09375 \nQ 40.234375 -1.421875 26.90625 -1.421875 \nQ 22.3125 -1.421875 17.546875 -0.640625 \nQ 12.796875 0.140625 7.71875 1.703125 \nL 7.71875 11.625 \nQ 12.109375 9.234375 16.796875 8.0625 \nQ 21.484375 6.890625 26.703125 6.890625 \nQ 35.15625 6.890625 40.078125 11.328125 \nQ 45.015625 15.765625 45.015625 23.390625 \nQ 45.015625 31 40.078125 35.4375 \nQ 35.15625 39.890625 26.703125 39.890625 \nQ 22.75 39.890625 18.8125 39.015625 \nQ 14.890625 38.140625 10.796875 36.28125 \nz\n\" id=\"DejaVuSans-53\"/>\n      </defs>\n      <g transform=\"translate(82.123295 239.238437)scale(0.1 -0.1)\">\n       <use xlink:href=\"#DejaVuSans-53\"/>\n      </g>\n     </g>\n    </g>\n    <g id=\"xtick_2\">\n     <g id=\"line2d_2\">\n      <g>\n       <use style=\"stroke:#000000;stroke-width:0.8;\" x=\"136.031818\" xlink:href=\"#m67163f174a\" y=\"224.64\"/>\n      </g>\n     </g>\n     <g id=\"text_2\">\n      <!-- 10 -->\n      <defs>\n       <path d=\"M 12.40625 8.296875 \nL 28.515625 8.296875 \nL 28.515625 63.921875 \nL 10.984375 60.40625 \nL 10.984375 69.390625 \nL 28.421875 72.90625 \nL 38.28125 72.90625 \nL 38.28125 8.296875 \nL 54.390625 8.296875 \nL 54.390625 0 \nL 12.40625 0 \nz\n\" id=\"DejaVuSans-49\"/>\n       <path d=\"M 31.78125 66.40625 \nQ 24.171875 66.40625 20.328125 58.90625 \nQ 16.5 51.421875 16.5 36.375 \nQ 16.5 21.390625 20.328125 13.890625 \nQ 24.171875 6.390625 31.78125 6.390625 \nQ 39.453125 6.390625 43.28125 13.890625 \nQ 47.125 21.390625 47.125 36.375 \nQ 47.125 51.421875 43.28125 58.90625 \nQ 39.453125 66.40625 31.78125 66.40625 \nz\nM 31.78125 74.21875 \nQ 44.046875 74.21875 50.515625 64.515625 \nQ 56.984375 54.828125 56.984375 36.375 \nQ 56.984375 17.96875 50.515625 8.265625 \nQ 44.046875 -1.421875 31.78125 -1.421875 \nQ 19.53125 -1.421875 13.0625 8.265625 \nQ 6.59375 17.96875 6.59375 36.375 \nQ 6.59375 54.828125 13.0625 64.515625 \nQ 19.53125 74.21875 31.78125 74.21875 \nz\n\" id=\"DejaVuSans-48\"/>\n      </defs>\n      <g transform=\"translate(129.669318 239.238437)scale(0.1 -0.1)\">\n       <use xlink:href=\"#DejaVuSans-49\"/>\n       <use x=\"63.623047\" xlink:href=\"#DejaVuSans-48\"/>\n      </g>\n     </g>\n    </g>\n    <g id=\"xtick_3\">\n     <g id=\"line2d_3\">\n      <g>\n       <use style=\"stroke:#000000;stroke-width:0.8;\" x=\"186.759091\" xlink:href=\"#m67163f174a\" y=\"224.64\"/>\n      </g>\n     </g>\n     <g id=\"text_3\">\n      <!-- 15 -->\n      <g transform=\"translate(180.396591 239.238437)scale(0.1 -0.1)\">\n       <use xlink:href=\"#DejaVuSans-49\"/>\n       <use x=\"63.623047\" xlink:href=\"#DejaVuSans-53\"/>\n      </g>\n     </g>\n    </g>\n    <g id=\"xtick_4\">\n     <g id=\"line2d_4\">\n      <g>\n       <use style=\"stroke:#000000;stroke-width:0.8;\" x=\"237.486364\" xlink:href=\"#m67163f174a\" y=\"224.64\"/>\n      </g>\n     </g>\n     <g id=\"text_4\">\n      <!-- 20 -->\n      <defs>\n       <path d=\"M 19.1875 8.296875 \nL 53.609375 8.296875 \nL 53.609375 0 \nL 7.328125 0 \nL 7.328125 8.296875 \nQ 12.9375 14.109375 22.625 23.890625 \nQ 32.328125 33.6875 34.8125 36.53125 \nQ 39.546875 41.84375 41.421875 45.53125 \nQ 43.3125 49.21875 43.3125 52.78125 \nQ 43.3125 58.59375 39.234375 62.25 \nQ 35.15625 65.921875 28.609375 65.921875 \nQ 23.96875 65.921875 18.8125 64.3125 \nQ 13.671875 62.703125 7.8125 59.421875 \nL 7.8125 69.390625 \nQ 13.765625 71.78125 18.9375 73 \nQ 24.125 74.21875 28.421875 74.21875 \nQ 39.75 74.21875 46.484375 68.546875 \nQ 53.21875 62.890625 53.21875 53.421875 \nQ 53.21875 48.921875 51.53125 44.890625 \nQ 49.859375 40.875 45.40625 35.40625 \nQ 44.1875 33.984375 37.640625 27.21875 \nQ 31.109375 20.453125 19.1875 8.296875 \nz\n\" id=\"DejaVuSans-50\"/>\n      </defs>\n      <g transform=\"translate(231.123864 239.238437)scale(0.1 -0.1)\">\n       <use xlink:href=\"#DejaVuSans-50\"/>\n       <use x=\"63.623047\" xlink:href=\"#DejaVuSans-48\"/>\n      </g>\n     </g>\n    </g>\n    <g id=\"xtick_5\">\n     <g id=\"line2d_5\">\n      <g>\n       <use style=\"stroke:#000000;stroke-width:0.8;\" x=\"288.213636\" xlink:href=\"#m67163f174a\" y=\"224.64\"/>\n      </g>\n     </g>\n     <g id=\"text_5\">\n      <!-- 25 -->\n      <g transform=\"translate(281.851136 239.238437)scale(0.1 -0.1)\">\n       <use xlink:href=\"#DejaVuSans-50\"/>\n       <use x=\"63.623047\" xlink:href=\"#DejaVuSans-53\"/>\n      </g>\n     </g>\n    </g>\n    <g id=\"xtick_6\">\n     <g id=\"line2d_6\">\n      <g>\n       <use style=\"stroke:#000000;stroke-width:0.8;\" x=\"338.940909\" xlink:href=\"#m67163f174a\" y=\"224.64\"/>\n      </g>\n     </g>\n     <g id=\"text_6\">\n      <!-- 30 -->\n      <defs>\n       <path d=\"M 40.578125 39.3125 \nQ 47.65625 37.796875 51.625 33 \nQ 55.609375 28.21875 55.609375 21.1875 \nQ 55.609375 10.40625 48.1875 4.484375 \nQ 40.765625 -1.421875 27.09375 -1.421875 \nQ 22.515625 -1.421875 17.65625 -0.515625 \nQ 12.796875 0.390625 7.625 2.203125 \nL 7.625 11.71875 \nQ 11.71875 9.328125 16.59375 8.109375 \nQ 21.484375 6.890625 26.8125 6.890625 \nQ 36.078125 6.890625 40.9375 10.546875 \nQ 45.796875 14.203125 45.796875 21.1875 \nQ 45.796875 27.640625 41.28125 31.265625 \nQ 36.765625 34.90625 28.71875 34.90625 \nL 20.21875 34.90625 \nL 20.21875 43.015625 \nL 29.109375 43.015625 \nQ 36.375 43.015625 40.234375 45.921875 \nQ 44.09375 48.828125 44.09375 54.296875 \nQ 44.09375 59.90625 40.109375 62.90625 \nQ 36.140625 65.921875 28.71875 65.921875 \nQ 24.65625 65.921875 20.015625 65.03125 \nQ 15.375 64.15625 9.8125 62.3125 \nL 9.8125 71.09375 \nQ 15.4375 72.65625 20.34375 73.4375 \nQ 25.25 74.21875 29.59375 74.21875 \nQ 40.828125 74.21875 47.359375 69.109375 \nQ 53.90625 64.015625 53.90625 55.328125 \nQ 53.90625 49.265625 50.4375 45.09375 \nQ 46.96875 40.921875 40.578125 39.3125 \nz\n\" id=\"DejaVuSans-51\"/>\n      </defs>\n      <g transform=\"translate(332.578409 239.238437)scale(0.1 -0.1)\">\n       <use xlink:href=\"#DejaVuSans-51\"/>\n       <use x=\"63.623047\" xlink:href=\"#DejaVuSans-48\"/>\n      </g>\n     </g>\n    </g>\n   </g>\n   <g id=\"matplotlib.axis_2\">\n    <g id=\"ytick_1\">\n     <g id=\"line2d_7\">\n      <defs>\n       <path d=\"M 0 0 \nL -3.5 0 \n\" id=\"m984ace3448\" style=\"stroke:#000000;stroke-width:0.8;\"/>\n      </defs>\n      <g>\n       <use style=\"stroke:#000000;stroke-width:0.8;\" x=\"39.65\" xlink:href=\"#m984ace3448\" y=\"224.64\"/>\n      </g>\n     </g>\n     <g id=\"text_7\">\n      <!-- 0 -->\n      <g transform=\"translate(26.2875 228.439219)scale(0.1 -0.1)\">\n       <use xlink:href=\"#DejaVuSans-48\"/>\n      </g>\n     </g>\n    </g>\n    <g id=\"ytick_2\">\n     <g id=\"line2d_8\">\n      <g>\n       <use style=\"stroke:#000000;stroke-width:0.8;\" x=\"39.65\" xlink:href=\"#m984ace3448\" y=\"195.119585\"/>\n      </g>\n     </g>\n     <g id=\"text_8\">\n      <!-- 200 -->\n      <g transform=\"translate(13.5625 198.918803)scale(0.1 -0.1)\">\n       <use xlink:href=\"#DejaVuSans-50\"/>\n       <use x=\"63.623047\" xlink:href=\"#DejaVuSans-48\"/>\n       <use x=\"127.246094\" xlink:href=\"#DejaVuSans-48\"/>\n      </g>\n     </g>\n    </g>\n    <g id=\"ytick_3\">\n     <g id=\"line2d_9\">\n      <g>\n       <use style=\"stroke:#000000;stroke-width:0.8;\" x=\"39.65\" xlink:href=\"#m984ace3448\" y=\"165.599169\"/>\n      </g>\n     </g>\n     <g id=\"text_9\">\n      <!-- 400 -->\n      <defs>\n       <path d=\"M 37.796875 64.3125 \nL 12.890625 25.390625 \nL 37.796875 25.390625 \nz\nM 35.203125 72.90625 \nL 47.609375 72.90625 \nL 47.609375 25.390625 \nL 58.015625 25.390625 \nL 58.015625 17.1875 \nL 47.609375 17.1875 \nL 47.609375 0 \nL 37.796875 0 \nL 37.796875 17.1875 \nL 4.890625 17.1875 \nL 4.890625 26.703125 \nz\n\" id=\"DejaVuSans-52\"/>\n      </defs>\n      <g transform=\"translate(13.5625 169.398388)scale(0.1 -0.1)\">\n       <use xlink:href=\"#DejaVuSans-52\"/>\n       <use x=\"63.623047\" xlink:href=\"#DejaVuSans-48\"/>\n       <use x=\"127.246094\" xlink:href=\"#DejaVuSans-48\"/>\n      </g>\n     </g>\n    </g>\n    <g id=\"ytick_4\">\n     <g id=\"line2d_10\">\n      <g>\n       <use style=\"stroke:#000000;stroke-width:0.8;\" x=\"39.65\" xlink:href=\"#m984ace3448\" y=\"136.078754\"/>\n      </g>\n     </g>\n     <g id=\"text_10\">\n      <!-- 600 -->\n      <defs>\n       <path d=\"M 33.015625 40.375 \nQ 26.375 40.375 22.484375 35.828125 \nQ 18.609375 31.296875 18.609375 23.390625 \nQ 18.609375 15.53125 22.484375 10.953125 \nQ 26.375 6.390625 33.015625 6.390625 \nQ 39.65625 6.390625 43.53125 10.953125 \nQ 47.40625 15.53125 47.40625 23.390625 \nQ 47.40625 31.296875 43.53125 35.828125 \nQ 39.65625 40.375 33.015625 40.375 \nz\nM 52.59375 71.296875 \nL 52.59375 62.3125 \nQ 48.875 64.0625 45.09375 64.984375 \nQ 41.3125 65.921875 37.59375 65.921875 \nQ 27.828125 65.921875 22.671875 59.328125 \nQ 17.53125 52.734375 16.796875 39.40625 \nQ 19.671875 43.65625 24.015625 45.921875 \nQ 28.375 48.1875 33.59375 48.1875 \nQ 44.578125 48.1875 50.953125 41.515625 \nQ 57.328125 34.859375 57.328125 23.390625 \nQ 57.328125 12.15625 50.6875 5.359375 \nQ 44.046875 -1.421875 33.015625 -1.421875 \nQ 20.359375 -1.421875 13.671875 8.265625 \nQ 6.984375 17.96875 6.984375 36.375 \nQ 6.984375 53.65625 15.1875 63.9375 \nQ 23.390625 74.21875 37.203125 74.21875 \nQ 40.921875 74.21875 44.703125 73.484375 \nQ 48.484375 72.75 52.59375 71.296875 \nz\n\" id=\"DejaVuSans-54\"/>\n      </defs>\n      <g transform=\"translate(13.5625 139.877972)scale(0.1 -0.1)\">\n       <use xlink:href=\"#DejaVuSans-54\"/>\n       <use x=\"63.623047\" xlink:href=\"#DejaVuSans-48\"/>\n       <use x=\"127.246094\" xlink:href=\"#DejaVuSans-48\"/>\n      </g>\n     </g>\n    </g>\n    <g id=\"ytick_5\">\n     <g id=\"line2d_11\">\n      <g>\n       <use style=\"stroke:#000000;stroke-width:0.8;\" x=\"39.65\" xlink:href=\"#m984ace3448\" y=\"106.558338\"/>\n      </g>\n     </g>\n     <g id=\"text_11\">\n      <!-- 800 -->\n      <defs>\n       <path d=\"M 31.78125 34.625 \nQ 24.75 34.625 20.71875 30.859375 \nQ 16.703125 27.09375 16.703125 20.515625 \nQ 16.703125 13.921875 20.71875 10.15625 \nQ 24.75 6.390625 31.78125 6.390625 \nQ 38.8125 6.390625 42.859375 10.171875 \nQ 46.921875 13.96875 46.921875 20.515625 \nQ 46.921875 27.09375 42.890625 30.859375 \nQ 38.875 34.625 31.78125 34.625 \nz\nM 21.921875 38.8125 \nQ 15.578125 40.375 12.03125 44.71875 \nQ 8.5 49.078125 8.5 55.328125 \nQ 8.5 64.0625 14.71875 69.140625 \nQ 20.953125 74.21875 31.78125 74.21875 \nQ 42.671875 74.21875 48.875 69.140625 \nQ 55.078125 64.0625 55.078125 55.328125 \nQ 55.078125 49.078125 51.53125 44.71875 \nQ 48 40.375 41.703125 38.8125 \nQ 48.828125 37.15625 52.796875 32.3125 \nQ 56.78125 27.484375 56.78125 20.515625 \nQ 56.78125 9.90625 50.3125 4.234375 \nQ 43.84375 -1.421875 31.78125 -1.421875 \nQ 19.734375 -1.421875 13.25 4.234375 \nQ 6.78125 9.90625 6.78125 20.515625 \nQ 6.78125 27.484375 10.78125 32.3125 \nQ 14.796875 37.15625 21.921875 38.8125 \nz\nM 18.3125 54.390625 \nQ 18.3125 48.734375 21.84375 45.5625 \nQ 25.390625 42.390625 31.78125 42.390625 \nQ 38.140625 42.390625 41.71875 45.5625 \nQ 45.3125 48.734375 45.3125 54.390625 \nQ 45.3125 60.0625 41.71875 63.234375 \nQ 38.140625 66.40625 31.78125 66.40625 \nQ 25.390625 66.40625 21.84375 63.234375 \nQ 18.3125 60.0625 18.3125 54.390625 \nz\n\" id=\"DejaVuSans-56\"/>\n      </defs>\n      <g transform=\"translate(13.5625 110.357557)scale(0.1 -0.1)\">\n       <use xlink:href=\"#DejaVuSans-56\"/>\n       <use x=\"63.623047\" xlink:href=\"#DejaVuSans-48\"/>\n       <use x=\"127.246094\" xlink:href=\"#DejaVuSans-48\"/>\n      </g>\n     </g>\n    </g>\n    <g id=\"ytick_6\">\n     <g id=\"line2d_12\">\n      <g>\n       <use style=\"stroke:#000000;stroke-width:0.8;\" x=\"39.65\" xlink:href=\"#m984ace3448\" y=\"77.037923\"/>\n      </g>\n     </g>\n     <g id=\"text_12\">\n      <!-- 1000 -->\n      <g transform=\"translate(7.2 80.837142)scale(0.1 -0.1)\">\n       <use xlink:href=\"#DejaVuSans-49\"/>\n       <use x=\"63.623047\" xlink:href=\"#DejaVuSans-48\"/>\n       <use x=\"127.246094\" xlink:href=\"#DejaVuSans-48\"/>\n       <use x=\"190.869141\" xlink:href=\"#DejaVuSans-48\"/>\n      </g>\n     </g>\n    </g>\n    <g id=\"ytick_7\">\n     <g id=\"line2d_13\">\n      <g>\n       <use style=\"stroke:#000000;stroke-width:0.8;\" x=\"39.65\" xlink:href=\"#m984ace3448\" y=\"47.517507\"/>\n      </g>\n     </g>\n     <g id=\"text_13\">\n      <!-- 1200 -->\n      <g transform=\"translate(7.2 51.316726)scale(0.1 -0.1)\">\n       <use xlink:href=\"#DejaVuSans-49\"/>\n       <use x=\"63.623047\" xlink:href=\"#DejaVuSans-50\"/>\n       <use x=\"127.246094\" xlink:href=\"#DejaVuSans-48\"/>\n       <use x=\"190.869141\" xlink:href=\"#DejaVuSans-48\"/>\n      </g>\n     </g>\n    </g>\n    <g id=\"ytick_8\">\n     <g id=\"line2d_14\">\n      <g>\n       <use style=\"stroke:#000000;stroke-width:0.8;\" x=\"39.65\" xlink:href=\"#m984ace3448\" y=\"17.997092\"/>\n      </g>\n     </g>\n     <g id=\"text_14\">\n      <!-- 1400 -->\n      <g transform=\"translate(7.2 21.796311)scale(0.1 -0.1)\">\n       <use xlink:href=\"#DejaVuSans-49\"/>\n       <use x=\"63.623047\" xlink:href=\"#DejaVuSans-52\"/>\n       <use x=\"127.246094\" xlink:href=\"#DejaVuSans-48\"/>\n       <use x=\"190.869141\" xlink:href=\"#DejaVuSans-48\"/>\n      </g>\n     </g>\n    </g>\n   </g>\n   <g id=\"patch_13\">\n    <path d=\"M 39.65 224.64 \nL 39.65 7.2 \n\" style=\"fill:none;stroke:#000000;stroke-linecap:square;stroke-linejoin:miter;stroke-width:0.8;\"/>\n   </g>\n   <g id=\"patch_14\">\n    <path d=\"M 374.45 224.64 \nL 374.45 7.2 \n\" style=\"fill:none;stroke:#000000;stroke-linecap:square;stroke-linejoin:miter;stroke-width:0.8;\"/>\n   </g>\n   <g id=\"patch_15\">\n    <path d=\"M 39.65 224.64 \nL 374.45 224.64 \n\" style=\"fill:none;stroke:#000000;stroke-linecap:square;stroke-linejoin:miter;stroke-width:0.8;\"/>\n   </g>\n   <g id=\"patch_16\">\n    <path d=\"M 39.65 7.2 \nL 374.45 7.2 \n\" style=\"fill:none;stroke:#000000;stroke-linecap:square;stroke-linejoin:miter;stroke-width:0.8;\"/>\n   </g>\n  </g>\n </g>\n <defs>\n  <clipPath id=\"pef9dc67d43\">\n   <rect height=\"217.44\" width=\"334.8\" x=\"39.65\" y=\"7.2\"/>\n  </clipPath>\n </defs>\n</svg>\n",
      "text/plain": "<Figure size 432x288 with 1 Axes>"
     },
     "metadata": {
      "needs_background": "light"
     },
     "output_type": "display_data"
    },
    {
     "data": {
      "text/plain": "array([[   0,    0,    0, ...,  905, 4080,  284],\n       [   0,    0,    0, ...,  122,  420,  210],\n       [   0,    0,    0, ...,   24,    1,  906],\n       ...,\n       [   0,    0,    0, ...,  648,  289,  756],\n       [   0,    0,    0, ..., 1017, 9219, 9220],\n       [   0,    0,    0, ...,   65,  463,  334]], dtype=int32)"
     },
     "execution_count": 6,
     "metadata": {},
     "output_type": "execute_result"
    }
   ],
   "source": [
    "# pad sequences\n",
    "\n",
    "lengths = [len(seq) for seq in sequences]\n",
    "plt.hist(lengths)\n",
    "plt.show()\n",
    "\n",
    "max_words = 30\n",
    "sequences = sequence.pad_sequences(sequences, maxlen=max_words)\n",
    "sequences"
   ]
  },
  {
   "cell_type": "code",
   "execution_count": 7,
   "metadata": {},
   "outputs": [],
   "source": [
    "# convert categories to one-hot vectors\n",
    "\n",
    "from sklearn.preprocessing import OneHotEncoder\n",
    "\n",
    "ohe = OneHotEncoder(sparse=False)\n",
    "y = ohe.fit_transform(tweets.Category.values.reshape(-1, 1))\n",
    "num_classes = len(ohe.get_feature_names())"
   ]
  },
  {
   "cell_type": "code",
   "execution_count": 8,
   "metadata": {},
   "outputs": [],
   "source": [
    "# split data\n",
    "\n",
    "from sklearn.model_selection import train_test_split\n",
    "\n",
    "x_train, x_test, y_train, y_test = train_test_split(sequences, y, test_size=0.2)\n",
    "x_train, x_valid, y_train, y_valid = train_test_split(x_train, y_train, test_size=0.2)"
   ]
  },
  {
   "cell_type": "code",
   "execution_count": 9,
   "metadata": {},
   "outputs": [],
   "source": [
    "# use Google word2vec embeddings\n",
    "\n",
    "import gensim\n",
    "\n",
    "# download it from https://drive.google.com/file/d/0B7XkCwpI5KDYNlNUTTlSS21pQmM/edit\n",
    "word2vec_file = 'models/GoogleNews-vectors-negative300.bin'\n",
    "word2vec = gensim.models.KeyedVectors.load_word2vec_format(word2vec_file, binary=True)"
   ]
  },
  {
   "cell_type": "code",
   "execution_count": 10,
   "metadata": {},
   "outputs": [],
   "source": [
    "embedding_dim = 300\n",
    "\n",
    "embedding_weights = np.zeros((vocab_size, embedding_dim))\n",
    "for word, idx in tokenizer.word_index.items():\n",
    "    if word in word2vec:\n",
    "        embedding_weights[idx, :] = word2vec[word]"
   ]
  },
  {
   "cell_type": "code",
   "execution_count": 11,
   "metadata": {},
   "outputs": [
    {
     "name": "stdout",
     "output_type": "stream",
     "text": "Model: \"sequential_1\"\n_________________________________________________________________\nLayer (type)                 Output Shape              Param #   \n=================================================================\nembedding_1 (Embedding)      (None, 30, 300)           2766600   \n_________________________________________________________________\nspatial_dropout1d_1 (Spatial (None, 30, 300)           0         \n_________________________________________________________________\nlstm_1 (LSTM)                (None, 100)               160400    \n_________________________________________________________________\ndense_1 (Dense)              (None, 3)                 303       \n=================================================================\nTotal params: 2,927,303\nTrainable params: 160,703\nNon-trainable params: 2,766,600\n_________________________________________________________________\nTrain on 3468 samples, validate on 868 samples\nEpoch 1/6\n3468/3468 [==============================] - 4s 1ms/step - loss: 1.0122 - accuracy: 0.4841 - val_loss: 0.9604 - val_accuracy: 0.5161\nEpoch 2/6\n3468/3468 [==============================] - 3s 974us/step - loss: 0.9661 - accuracy: 0.5147 - val_loss: 0.9116 - val_accuracy: 0.5726\nEpoch 3/6\n3468/3468 [==============================] - 3s 1ms/step - loss: 0.9500 - accuracy: 0.5196 - val_loss: 0.8990 - val_accuracy: 0.5668\nEpoch 4/6\n3468/3468 [==============================] - 4s 1ms/step - loss: 0.9498 - accuracy: 0.5363 - val_loss: 0.8963 - val_accuracy: 0.5553\nEpoch 5/6\n3468/3468 [==============================] - 4s 1ms/step - loss: 0.9419 - accuracy: 0.5404 - val_loss: 0.9001 - val_accuracy: 0.5507\nEpoch 6/6\n3468/3468 [==============================] - 4s 1ms/step - loss: 0.9194 - accuracy: 0.5412 - val_loss: 0.8898 - val_accuracy: 0.5772\n"
    },
    {
     "data": {
      "text/plain": "<keras.callbacks.callbacks.History at 0x2687b5f28>"
     },
     "execution_count": 11,
     "metadata": {},
     "output_type": "execute_result"
    }
   ],
   "source": [
    "# setup and train neural network\n",
    "\n",
    "from keras import Sequential\n",
    "from keras.layers import Embedding, SpatialDropout1D, LSTM, Dense\n",
    "\n",
    "def create_model(embedding_weights, num_classes, spatial_dropout=0.5, lstm_dropout=0.5, recurrent_dropout=0.5):\n",
    "    vocab_size, embedding_dim = embedding_weights.shape\n",
    "    model = Sequential([\n",
    "        Embedding(vocab_size, embedding_dim, input_length=max_words, weights=[embedding_weights], trainable=False),\n",
    "        SpatialDropout1D(spatial_dropout),\n",
    "        LSTM(100, dropout=lstm_dropout, recurrent_dropout=recurrent_dropout),\n",
    "        Dense(num_classes, activation='softmax'),\n",
    "    ])\n",
    "    model.compile(loss='categorical_crossentropy', optimizer='adam', metrics=['accuracy'])\n",
    "    return model\n",
    "\n",
    "model = create_model(embedding_weights, num_classes)\n",
    "model.summary()\n",
    "\n",
    "epochs = 6\n",
    "batch_size = 32\n",
    "\n",
    "model.fit(x_train, y_train,\n",
    "          validation_data=(x_valid, y_valid),\n",
    "          epochs=epochs, batch_size=batch_size)"
   ]
  },
  {
   "cell_type": "code",
   "execution_count": 12,
   "metadata": {},
   "outputs": [
    {
     "name": "stdout",
     "output_type": "stream",
     "text": "[[ 51  58  59]\n [ 35 137 217]\n [  7  60 461]]\n0.5981566820276498\n"
    }
   ],
   "source": [
    "# check against the test set\n",
    "\n",
    "from sklearn.metrics import confusion_matrix, accuracy_score\n",
    "\n",
    "predictions = model.predict_classes(x_test)\n",
    "truth = y_test.argmax(1)\n",
    "\n",
    "print(confusion_matrix(truth, predictions))\n",
    "print(accuracy_score(truth, predictions))"
   ]
  },
  {
   "cell_type": "code",
   "execution_count": 16,
   "metadata": {},
   "outputs": [
    {
     "name": "stdout",
     "output_type": "stream",
     "text": "(0.16666666666666666, 0.16666666666666666, 0.16666666666666666) 0.5815668202764976\n(0.16666666666666666, 0.16666666666666666, 0.3333333333333333) 0.5990783410138248\n(0.16666666666666666, 0.16666666666666666, 0.5) 0.6036866359447005\n(0.16666666666666666, 0.3333333333333333, 0.16666666666666666) 0.5990783410138248\n(0.16666666666666666, 0.3333333333333333, 0.3333333333333333) 0.6018433179723502\n(0.16666666666666666, 0.3333333333333333, 0.5) 0.6138248847926268\n(0.16666666666666666, 0.5, 0.16666666666666666) 0.6027649769585254\n(0.16666666666666666, 0.5, 0.3333333333333333) 0.5815668202764976\n(0.16666666666666666, 0.5, 0.5) 0.6027649769585254\n(0.3333333333333333, 0.16666666666666666, 0.16666666666666666) 0.6055299539170507\n(0.3333333333333333, 0.16666666666666666, 0.3333333333333333) 0.6\n(0.3333333333333333, 0.16666666666666666, 0.5) 0.6092165898617512\n(0.3333333333333333, 0.3333333333333333, 0.16666666666666666) 0.6082949308755761\n(0.3333333333333333, 0.3333333333333333, 0.3333333333333333) 0.6055299539170507\n(0.3333333333333333, 0.3333333333333333, 0.5) 0.6036866359447005\n(0.3333333333333333, 0.5, 0.16666666666666666) 0.5880184331797235\n(0.3333333333333333, 0.5, 0.3333333333333333) 0.5870967741935483\n(0.3333333333333333, 0.5, 0.5) 0.5935483870967742\n(0.5, 0.16666666666666666, 0.16666666666666666) 0.6082949308755761\n(0.5, 0.16666666666666666, 0.3333333333333333) 0.5898617511520737\n(0.5, 0.16666666666666666, 0.5) 0.6073732718894009\n(0.5, 0.3333333333333333, 0.16666666666666666) 0.5880184331797235\n(0.5, 0.3333333333333333, 0.3333333333333333) 0.6064516129032258\n(0.5, 0.3333333333333333, 0.5) 0.5880184331797235\n(0.5, 0.5, 0.16666666666666666) 0.5990783410138248\n(0.5, 0.5, 0.3333333333333333) 0.5834101382488479\n(0.5, 0.5, 0.5) 0.5953917050691244\n"
    }
   ],
   "source": [
    "# optimize dropout hyperparameters\n",
    "\n",
    "import itertools\n",
    "\n",
    "values = np.arange(1, 4) / 6\n",
    "scores = {}\n",
    "\n",
    "for params in itertools.product(values, repeat=3):\n",
    "    model = create_model(embedding_weights, num_classes, *params)\n",
    "    model.fit(x_train, y_train,\n",
    "        validation_data=(x_valid, y_valid),\n",
    "        epochs=epochs, batch_size=batch_size, verbose=0)\n",
    "    \n",
    "    accuracy = accuracy_score(truth, model.predict_classes(x_test))\n",
    "    print(params, accuracy)\n",
    "    scores[params] = accuracy\n",
    "\n",
    "best_params = max(scores, key=scores.get)"
   ]
  },
  {
   "cell_type": "code",
   "execution_count": 21,
   "metadata": {},
   "outputs": [
    {
     "data": {
      "text/plain": "(0.16666666666666666, 0.3333333333333333, 0.5)"
     },
     "execution_count": 21,
     "metadata": {},
     "output_type": "execute_result"
    }
   ],
   "source": [
    "best_params"
   ]
  },
  {
   "cell_type": "code",
   "execution_count": 17,
   "metadata": {},
   "outputs": [
    {
     "name": "stdout",
     "output_type": "stream",
     "text": "Epoch 1/6\n5421/5421 [==============================] - 6s 1ms/step - loss: 0.9586 - accuracy: 0.5202\nEpoch 2/6\n5421/5421 [==============================] - 5s 941us/step - loss: 0.8963 - accuracy: 0.5687\nEpoch 3/6\n5421/5421 [==============================] - 5s 938us/step - loss: 0.8863 - accuracy: 0.5761\nEpoch 4/6\n5421/5421 [==============================] - 5s 947us/step - loss: 0.8702 - accuracy: 0.5825\nEpoch 5/6\n5421/5421 [==============================] - 5s 946us/step - loss: 0.8593 - accuracy: 0.5999\nEpoch 6/6\n5421/5421 [==============================] - 5s 944us/step - loss: 0.8455 - accuracy: 0.5975\n"
    },
    {
     "data": {
      "text/plain": "<keras.callbacks.callbacks.History at 0x27655e2e8>"
     },
     "execution_count": 17,
     "metadata": {},
     "output_type": "execute_result"
    }
   ],
   "source": [
    "# train on entire set with best params\n",
    "\n",
    "model = create_model(embedding_weights, num_classes, *best_params)\n",
    "model.fit(sequences, y, epochs=epochs, batch_size=batch_size)"
   ]
  },
  {
   "cell_type": "code",
   "execution_count": 18,
   "metadata": {},
   "outputs": [
    {
     "data": {
      "text/plain": "{'I loved it!': 'positive',\n \"I don't know what to say\": 'neutral',\n 'What a fucking piece of shit!': 'negative'}"
     },
     "execution_count": 18,
     "metadata": {},
     "output_type": "execute_result"
    }
   ],
   "source": [
    "# test on our own input\n",
    "\n",
    "def classify(text):\n",
    "    text = preprocess(text)\n",
    "    test_seq = tokenizer.texts_to_sequences([text])\n",
    "    test_seq = sequence.pad_sequences(test_seq, maxlen=max_words)\n",
    "    predictions = model.predict_classes(test_seq)\n",
    "    return ohe.categories_[0][predictions[0]]\n",
    "\n",
    "phrases = [\"I loved it!\", \"I don't know what to say\", \"What a fucking piece of shit!\"]\n",
    "{ phrase: classify(phrase) for phrase in phrases }"
   ]
  },
  {
   "cell_type": "code",
   "execution_count": 19,
   "metadata": {},
   "outputs": [],
   "source": [
    "# predict categories on the external test set\n",
    "\n",
    "def classify_array(texts):\n",
    "    texts = [preprocess(text) for text in texts]\n",
    "    sequences = tokenizer.texts_to_sequences(texts)\n",
    "    sequences = sequence.pad_sequences(sequences, maxlen=max_words)\n",
    "    predictions = model.predict_classes(sequences)\n",
    "    return ohe.categories_[0][predictions]\n",
    "\n",
    "test_tweets = pandas.read_csv('data/test.csv', dtype={'Id': str, 'Tweet': str})\n",
    "test_tweets['Category'] = classify_array(test_tweets.Tweet)\n",
    "\n",
    "with open('predictions.csv', 'wt') as f:\n",
    "    f.write(\"Id,Category\\n\")\n",
    "    for i, row in test_tweets.iterrows():\n",
    "        f.write(f\"{row.Id},{row.Category}\\n\")"
   ]
  },
  {
   "cell_type": "code",
   "execution_count": 20,
   "metadata": {},
   "outputs": [
    {
     "data": {
      "text/html": "<div>\n<style scoped>\n    .dataframe tbody tr th:only-of-type {\n        vertical-align: middle;\n    }\n\n    .dataframe tbody tr th {\n        vertical-align: top;\n    }\n\n    .dataframe thead th {\n        text-align: right;\n    }\n</style>\n<table border=\"1\" class=\"dataframe\">\n  <thead>\n    <tr style=\"text-align: right;\">\n      <th></th>\n      <th>Tweet</th>\n      <th>Category</th>\n    </tr>\n  </thead>\n  <tbody>\n    <tr>\n      <th>2959</th>\n      <td>Galaxy Note 5 Commercial Showcases The New S-Pen: Samsung finally announced the Galaxy Note 5 on Thursday, we ... http://t.co/msw9dgIcSd</td>\n      <td>positive</td>\n    </tr>\n    <tr>\n      <th>1967</th>\n      <td>I think the dude sat next to Aldo should put on a Conor McGregor face mask so we can see Jose running again.</td>\n      <td>positive</td>\n    </tr>\n    <tr>\n      <th>209</th>\n      <td>Also, The Forsaken Comedy is free until Friday!  Pick up From Hell with Love and the sequels from Amazon http://t.co/oWLap47lZ7</td>\n      <td>positive</td>\n    </tr>\n    <tr>\n      <th>2281</th>\n      <td>When you don't know what you're wearing to DIGI &amp;amp; it's tomorrow</td>\n      <td>neutral</td>\n    </tr>\n    <tr>\n      <th>3870</th>\n      <td>As part of my blog series on the #itoa for #ibmmiddleware see my 10th blog on value to IBM z Systems http://t.co/dhWFXMqn1B #itsm #bigdata</td>\n      <td>positive</td>\n    </tr>\n    <tr>\n      <th>2370</th>\n      <td>Not Available</td>\n      <td>positive</td>\n    </tr>\n    <tr>\n      <th>1756</th>\n      <td>Chelsea could honestly be the 3rd Migo with me and gee, we all think alike</td>\n      <td>positive</td>\n    </tr>\n    <tr>\n      <th>458</th>\n      <td>Not Available</td>\n      <td>positive</td>\n    </tr>\n    <tr>\n      <th>913</th>\n      <td>Again, awful from Barca. Not the best result, they should get 3 goals or more. Calderon on the 12th, serious.</td>\n      <td>neutral</td>\n    </tr>\n    <tr>\n      <th>2545</th>\n      <td>Not Available</td>\n      <td>positive</td>\n    </tr>\n    <tr>\n      <th>52</th>\n      <td>Did you know our Lunch&amp;amp;Learns are now open to the public? Join us on August 31 with @asaunders from @Microsoft! https://t.co/FdPz5JcqI6</td>\n      <td>positive</td>\n    </tr>\n    <tr>\n      <th>3799</th>\n      <td>Photo: wtvox: IBM Will Invest $3 Billion For A New Internet of Things Unit: IBM on Tuesday said that it... http://t.co/DoMXSHVth7</td>\n      <td>neutral</td>\n    </tr>\n    <tr>\n      <th>3323</th>\n      <td>I just bought: '30 Trips Around The Sun The Definitive Live Story (1965-1995)' ~ Grateful Dead via @AmazonUK http://t.co/FQPJTsz0EI</td>\n      <td>positive</td>\n    </tr>\n    <tr>\n      <th>840</th>\n      <td>On a monday morning you still carry Schneiderlin matter put for head. These Arsenal fans ehn</td>\n      <td>positive</td>\n    </tr>\n    <tr>\n      <th>12</th>\n      <td>@MSAU @Microsoft spent over 40 mins &amp;amp; gave up coz it changes just before you print every time. C'mon team. Earn your dosh pls.</td>\n      <td>positive</td>\n    </tr>\n    <tr>\n      <th>1036</th>\n      <td>@Productoffear_   \"Arkham Knight, sir. I may be new to you but I'm not to then Batman. We have something in common. We both want his head.\"</td>\n      <td>positive</td>\n    </tr>\n    <tr>\n      <th>128</th>\n      <td>Not Available</td>\n      <td>positive</td>\n    </tr>\n    <tr>\n      <th>549</th>\n      <td>@cobbo3 And what did Angela Merkel say? She's going for a 4th term. Germany is going to the dogs, right?</td>\n      <td>negative</td>\n    </tr>\n    <tr>\n      <th>2742</th>\n      <td>How to watch Federer and Murray on Tuesday at the 2015 US Open: Roger Federer will begin his 2015 US Open on T... http://t.co/GlxQkdiJZN</td>\n      <td>positive</td>\n    </tr>\n    <tr>\n      <th>1685</th>\n      <td>Katrina tops Sunday morning show agenda - Bobby Jindal sits down with both ABC and CBS. New Orleans Mayor Mitch La... http://t.co/J1coQHpxCH</td>\n      <td>neutral</td>\n    </tr>\n  </tbody>\n</table>\n</div>",
      "text/plain": "                                                                                                                                             Tweet  \\\n2959      Galaxy Note 5 Commercial Showcases The New S-Pen: Samsung finally announced the Galaxy Note 5 on Thursday, we ... http://t.co/msw9dgIcSd   \n1967                                  I think the dude sat next to Aldo should put on a Conor McGregor face mask so we can see Jose running again.   \n209                Also, The Forsaken Comedy is free until Friday!  Pick up From Hell with Love and the sequels from Amazon http://t.co/oWLap47lZ7   \n2281                                                                           When you don't know what you're wearing to DIGI &amp; it's tomorrow   \n3870    As part of my blog series on the #itoa for #ibmmiddleware see my 10th blog on value to IBM z Systems http://t.co/dhWFXMqn1B #itsm #bigdata   \n2370                                                                                                                                 Not Available   \n1756                                                                    Chelsea could honestly be the 3rd Migo with me and gee, we all think alike   \n458                                                                                                                                  Not Available   \n913                                  Again, awful from Barca. Not the best result, they should get 3 goals or more. Calderon on the 12th, serious.   \n2545                                                                                                                                 Not Available   \n52     Did you know our Lunch&amp;Learns are now open to the public? Join us on August 31 with @asaunders from @Microsoft! https://t.co/FdPz5JcqI6   \n3799             Photo: wtvox: IBM Will Invest $3 Billion For A New Internet of Things Unit: IBM on Tuesday said that it... http://t.co/DoMXSHVth7   \n3323           I just bought: '30 Trips Around The Sun The Definitive Live Story (1965-1995)' ~ Grateful Dead via @AmazonUK http://t.co/FQPJTsz0EI   \n840                                                   On a monday morning you still carry Schneiderlin matter put for head. These Arsenal fans ehn   \n12              @MSAU @Microsoft spent over 40 mins &amp; gave up coz it changes just before you print every time. C'mon team. Earn your dosh pls.   \n1036   @Productoffear_   \"Arkham Knight, sir. I may be new to you but I'm not to then Batman. We have something in common. We both want his head.\"   \n128                                                                                                                                  Not Available   \n549                                       @cobbo3 And what did Angela Merkel say? She's going for a 4th term. Germany is going to the dogs, right?   \n2742      How to watch Federer and Murray on Tuesday at the 2015 US Open: Roger Federer will begin his 2015 US Open on T... http://t.co/GlxQkdiJZN   \n1685  Katrina tops Sunday morning show agenda - Bobby Jindal sits down with both ABC and CBS. New Orleans Mayor Mitch La... http://t.co/J1coQHpxCH   \n\n      Category  \n2959  positive  \n1967  positive  \n209   positive  \n2281   neutral  \n3870  positive  \n2370  positive  \n1756  positive  \n458   positive  \n913    neutral  \n2545  positive  \n52    positive  \n3799   neutral  \n3323  positive  \n840   positive  \n12    positive  \n1036  positive  \n128   positive  \n549   negative  \n2742  positive  \n1685   neutral  "
     },
     "execution_count": 20,
     "metadata": {},
     "output_type": "execute_result"
    }
   ],
   "source": [
    "test_tweets[['Tweet', 'Category']].sample(20)"
   ]
  }
 ],
 "metadata": {
  "kernelspec": {
   "display_name": "Python 3",
   "language": "python",
   "name": "python3"
  },
  "language_info": {
   "codemirror_mode": {
    "name": "ipython",
    "version": 3
   },
   "file_extension": ".py",
   "mimetype": "text/x-python",
   "name": "python",
   "nbconvert_exporter": "python",
   "pygments_lexer": "ipython3",
   "version": "3.7.3-final"
  }
 },
 "nbformat": 4,
 "nbformat_minor": 2
}