{
 "cells": [
  {
   "cell_type": "code",
   "execution_count": 203,
   "metadata": {},
   "outputs": [],
   "source": [
    "import pandas\n",
    "import matplotlib.pyplot as plt\n",
    "import numpy as np\n",
    "pandas.set_option('display.max_colwidth', 200)"
   ]
  },
  {
   "cell_type": "code",
   "execution_count": 284,
   "metadata": {},
   "outputs": [],
   "source": [
    "# preprocessing\n",
    "\n",
    "def cleanup(tweets):\n",
    "    tweets = tweets.dropna()\n",
    "    tweets = tweets.drop(columns=['Id'])\n",
    "    tweets = tweets[tweets.Category != 'Tweet']\n",
    "    tweets = tweets[tweets.Tweet != 'Not Available']\n",
    "    tweets = tweets[tweets.Tweet != '']\n",
    "    return tweets\n",
    "\n",
    "import re\n",
    "from nltk.tokenize.casual import casual_tokenize\n",
    "from nltk.stem.porter import PorterStemmer\n",
    "from nltk.stem import WordNetLemmatizer\n",
    "from nltk.tag import pos_tag\n",
    "from nltk.corpus import stopwords\n",
    "import string\n",
    "\n",
    "# stops = set(stopwords.words('english'))\n",
    "stops = {'in', 'of', 'at', 'a', 'the', 'to', 'on', 'and', 'it'}\n",
    "stops.update(string.punctuation)\n",
    "stops.difference_update('?!')\n",
    "\n",
    "stemmer = PorterStemmer()\n",
    "lemmatizer = WordNetLemmatizer()\n",
    "\n",
    "def tag_for_lemmatizer(tag):\n",
    "    if tag.startswith('NN'):\n",
    "        return 'n'\n",
    "    if tag.startswith('VB'):\n",
    "        return 'v'\n",
    "    return 'a'\n",
    "\n",
    "def preprocess(text, lemmatize=True):\n",
    "    if not text or type(text) != str:\n",
    "        return ''\n",
    "\n",
    "    text = text.lower()\n",
    "    text = re.sub(r\"https?://[^\\s]+\", '', text) # hyperlinks\n",
    "    text = re.sub(r\"\\@\\w+\", '', text) # mentions\n",
    "    text = re.sub(r\"#\", '', text) # hashtags\n",
    "    text = re.sub(r\"\\d+\\w*\", '', text) # numbers\n",
    "    text = re.sub(r\"'s\", '', text) # possesive\n",
    "    text = re.sub(r\"n't\", ' not', text) # contractions\n",
    "    \n",
    "    words = [word for word in casual_tokenize(text) if word not in stops]\n",
    "    \n",
    "    if lemmatize:\n",
    "        words = [\n",
    "            lemmatizer.lemmatize(word, tag_for_lemmatizer(tag))\n",
    "            for word, tag in pos_tag(words)\n",
    "        ]\n",
    "    else:\n",
    "        words = [\n",
    "            stemmer.stem(word)\n",
    "            for word in words\n",
    "        ]\n",
    "    text = ' '.join(words)\n",
    "    return text"
   ]
  },
  {
   "cell_type": "code",
   "execution_count": 205,
   "metadata": {
    "scrolled": true
   },
   "outputs": [
    {
     "data": {
      "text/html": [
       "<div>\n",
       "<style scoped>\n",
       "    .dataframe tbody tr th:only-of-type {\n",
       "        vertical-align: middle;\n",
       "    }\n",
       "\n",
       "    .dataframe tbody tr th {\n",
       "        vertical-align: top;\n",
       "    }\n",
       "\n",
       "    .dataframe thead th {\n",
       "        text-align: right;\n",
       "    }\n",
       "</style>\n",
       "<table border=\"1\" class=\"dataframe\">\n",
       "  <thead>\n",
       "    <tr style=\"text-align: right;\">\n",
       "      <th></th>\n",
       "      <th>Category</th>\n",
       "      <th>Tweet</th>\n",
       "    </tr>\n",
       "  </thead>\n",
       "  <tbody>\n",
       "    <tr>\n",
       "      <th>1</th>\n",
       "      <td>neutral</td>\n",
       "      <td>io app transport security mm need check party network pod support</td>\n",
       "    </tr>\n",
       "    <tr>\n",
       "      <th>2</th>\n",
       "      <td>neutral</td>\n",
       "      <td>mar io device download app</td>\n",
       "    </tr>\n",
       "    <tr>\n",
       "      <th>3</th>\n",
       "      <td>negative</td>\n",
       "      <td>phone run late io may account problem day .. time replace</td>\n",
       "    </tr>\n",
       "    <tr>\n",
       "      <th>4</th>\n",
       "      <td>positive</td>\n",
       "      <td>sure start publication io ? we'll live help ask anything session today friday</td>\n",
       "    </tr>\n",
       "    <tr>\n",
       "      <th>5</th>\n",
       "      <td>neutral</td>\n",
       "      <td>two dollar tuesday forklift quickkey io suite page today</td>\n",
       "    </tr>\n",
       "    <tr>\n",
       "      <th>...</th>\n",
       "      <td>...</td>\n",
       "      <td>...</td>\n",
       "    </tr>\n",
       "    <tr>\n",
       "      <th>5963</th>\n",
       "      <td>positive</td>\n",
       "      <td>ok ed let zlatan greizmann laporte tomorrow make happen</td>\n",
       "    </tr>\n",
       "    <tr>\n",
       "      <th>5964</th>\n",
       "      <td>neutral</td>\n",
       "      <td>goal level zlatan friday ? post every day #dsgs vine</td>\n",
       "    </tr>\n",
       "    <tr>\n",
       "      <th>5965</th>\n",
       "      <td>neutral</td>\n",
       "      <td>would surprise enquired.he ca happy play fiddle zlatan worth psg asking price</td>\n",
       "    </tr>\n",
       "    <tr>\n",
       "      <th>5966</th>\n",
       "      <td>neutral</td>\n",
       "      <td>rib injury zlatan russia big blow miss austria game tuesday chance new sunderland striker toivonen #safc</td>\n",
       "    </tr>\n",
       "    <tr>\n",
       "      <th>5967</th>\n",
       "      <td>neutral</td>\n",
       "      <td>noooooo ! hop see zlatan zlatan tuesday ! oh well still look forward match</td>\n",
       "    </tr>\n",
       "  </tbody>\n",
       "</table>\n",
       "<p>5421 rows × 2 columns</p>\n",
       "</div>"
      ],
      "text/plain": [
       "      Category  \\\n",
       "1      neutral   \n",
       "2      neutral   \n",
       "3     negative   \n",
       "4     positive   \n",
       "5      neutral   \n",
       "...        ...   \n",
       "5963  positive   \n",
       "5964   neutral   \n",
       "5965   neutral   \n",
       "5966   neutral   \n",
       "5967   neutral   \n",
       "\n",
       "                                                                                                         Tweet  \n",
       "1                                            io app transport security mm need check party network pod support  \n",
       "2                                                                                   mar io device download app  \n",
       "3                                                    phone run late io may account problem day .. time replace  \n",
       "4                                sure start publication io ? we'll live help ask anything session today friday  \n",
       "5                                                     two dollar tuesday forklift quickkey io suite page today  \n",
       "...                                                                                                        ...  \n",
       "5963                                                   ok ed let zlatan greizmann laporte tomorrow make happen  \n",
       "5964                                                      goal level zlatan friday ? post every day #dsgs vine  \n",
       "5965                             would surprise enquired.he ca happy play fiddle zlatan worth psg asking price  \n",
       "5966  rib injury zlatan russia big blow miss austria game tuesday chance new sunderland striker toivonen #safc  \n",
       "5967                                noooooo ! hop see zlatan zlatan tuesday ! oh well still look forward match  \n",
       "\n",
       "[5421 rows x 2 columns]"
      ]
     },
     "execution_count": 205,
     "metadata": {},
     "output_type": "execute_result"
    }
   ],
   "source": [
    "# load train set\n",
    "\n",
    "tweets = pandas.read_csv('data/train.csv')\n",
    "tweets = cleanup(tweets)\n",
    "tweets.Tweet = tweets.Tweet.apply(preprocess, lemmatize=True)\n",
    "tweets"
   ]
  },
  {
   "cell_type": "code",
   "execution_count": 206,
   "metadata": {},
   "outputs": [],
   "source": [
    "# convert text to sequences\n",
    "\n",
    "from keras.preprocessing.text import Tokenizer\n",
    "from keras.preprocessing import sequence\n",
    "\n",
    "tokenizer = Tokenizer()\n",
    "tokenizer.fit_on_texts(tweets.Tweet)\n",
    "vocab_size = len(tokenizer.word_index) + 1\n",
    "\n",
    "sequences = tokenizer.texts_to_sequences(tweets.Tweet)"
   ]
  },
  {
   "cell_type": "code",
   "execution_count": 207,
   "metadata": {},
   "outputs": [
    {
     "data": {
      "image/png": "[encoded data removed]",
      "text/plain": [
       "<Figure size 432x288 with 1 Axes>"
      ]
     },
     "metadata": {
      "needs_background": "light"
     },
     "output_type": "display_data"
    },
    {
     "data": {
      "text/plain": [
       "array([[   0,    0,    0, ...,  807, 4019,  210],\n",
       "       [   0,    0,    0, ...,  438,  601,  339],\n",
       "       [   0,    0,    0, ...,    4,    7,  808],\n",
       "       ...,\n",
       "       [   0,    0,    0, ...,  567, 3059,  671],\n",
       "       [   0,    0,    0, ...,  924, 9222, 9223],\n",
       "       [   0,    0,    0, ...,   30,  379,  260]], dtype=int32)"
      ]
     },
     "execution_count": 207,
     "metadata": {},
     "output_type": "execute_result"
    }
   ],
   "source": [
    "# pad sequences\n",
    "\n",
    "lengths = [len(seq) for seq in sequences]\n",
    "plt.hist(lengths)\n",
    "plt.show()\n",
    "\n",
    "max_words = 30\n",
    "sequences = sequence.pad_sequences(sequences, maxlen=max_words)\n",
    "sequences"
   ]
  },
  {
   "cell_type": "code",
   "execution_count": 208,
   "metadata": {},
   "outputs": [],
   "source": [
    "# convert categories to one-hot vectors\n",
    "\n",
    "from sklearn.preprocessing import OneHotEncoder\n",
    "\n",
    "ohe = OneHotEncoder(sparse=False)\n",
    "y = ohe.fit_transform(tweets.Category.values.reshape(-1, 1))\n",
    "num_classes = len(ohe.get_feature_names())"
   ]
  },
  {
   "cell_type": "code",
   "execution_count": 230,
   "metadata": {},
   "outputs": [],
   "source": [
    "# split data\n",
    "\n",
    "from sklearn.model_selection import train_test_split\n",
    "\n",
    "x_train, x_test, y_train, y_test = train_test_split(sequences, y, test_size=0.2)\n",
    "x_train, x_valid, y_train, y_valid = train_test_split(x_train, y_train, test_size=0.2)"
   ]
  },
  {
   "cell_type": "code",
   "execution_count": 240,
   "metadata": {},
   "outputs": [
    {
     "name": "stdout",
     "output_type": "stream",
     "text": [
      "Model: \"sequential_38\"\n",
      "_________________________________________________________________\n",
      "Layer (type)                 Output Shape              Param #   \n",
      "=================================================================\n",
      "embedding_38 (Embedding)     (None, 30, 100)           922500    \n",
      "_________________________________________________________________\n",
      "spatial_dropout1d_38 (Spatia (None, 30, 100)           0         \n",
      "_________________________________________________________________\n",
      "lstm_38 (LSTM)               (None, 100)               80400     \n",
      "_________________________________________________________________\n",
      "dense_40 (Dense)             (None, 3)                 303       \n",
      "=================================================================\n",
      "Total params: 1,003,203\n",
      "Trainable params: 1,003,203\n",
      "Non-trainable params: 0\n",
      "_________________________________________________________________\n"
     ]
    },
    {
     "name": "stderr",
     "output_type": "stream",
     "text": [
      "/Users/mikolaj/Code/iti2/emd/lab2/.venv/lib/python3.7/site-packages/tensorflow_core/python/framework/indexed_slices.py:424: UserWarning: Converting sparse IndexedSlices to a dense Tensor of unknown shape. This may consume a large amount of memory.\n",
      "  \"Converting sparse IndexedSlices to a dense Tensor of unknown shape. \"\n"
     ]
    },
    {
     "name": "stdout",
     "output_type": "stream",
     "text": [
      "Train on 3468 samples, validate on 868 samples\n",
      "Epoch 1/5\n",
      "3468/3468 [==============================] - 3s 885us/step - loss: 1.0403 - accuracy: 0.4562 - val_loss: 0.9843 - val_accuracy: 0.5012\n",
      "Epoch 2/5\n",
      "3468/3468 [==============================] - 3s 724us/step - loss: 0.9912 - accuracy: 0.4827 - val_loss: 0.9388 - val_accuracy: 0.5311\n",
      "Epoch 3/5\n",
      "3468/3468 [==============================] - 2s 690us/step - loss: 0.8818 - accuracy: 0.5928 - val_loss: 0.8748 - val_accuracy: 0.5588\n",
      "Epoch 4/5\n",
      "3468/3468 [==============================] - 2s 696us/step - loss: 0.7596 - accuracy: 0.6698 - val_loss: 0.8795 - val_accuracy: 0.5530\n",
      "Epoch 5/5\n",
      "3468/3468 [==============================] - 2s 706us/step - loss: 0.6591 - accuracy: 0.7212 - val_loss: 0.9132 - val_accuracy: 0.5565\n"
     ]
    },
    {
     "data": {
      "text/plain": [
       "<keras.callbacks.callbacks.History at 0x19f835eb8>"
      ]
     },
     "execution_count": 240,
     "metadata": {},
     "output_type": "execute_result"
    }
   ],
   "source": [
    "# setup and train neural network\n",
    "\n",
    "from keras import Sequential\n",
    "from keras.layers import Embedding, SpatialDropout1D, LSTM, Dense\n",
    "\n",
    "embedding_dim = 100\n",
    "\n",
    "model = Sequential([\n",
    "    Embedding(vocab_size, embedding_dim, input_length=max_words),\n",
    "    SpatialDropout1D(0.5),\n",
    "    LSTM(100, dropout=0.5, recurrent_dropout=0.5),\n",
    "    Dense(num_classes, activation='softmax'),\n",
    "])\n",
    "model.summary()\n",
    "\n",
    "model.compile(loss='categorical_crossentropy', optimizer='adam', metrics=['accuracy'])\n",
    "\n",
    "epochs = 5\n",
    "batch_size = 64\n",
    "\n",
    "model.fit(x_train, y_train,\n",
    "          validation_data=(x_valid, y_valid),\n",
    "          epochs=epochs, batch_size=batch_size)"
   ]
  },
  {
   "cell_type": "code",
   "execution_count": 241,
   "metadata": {},
   "outputs": [
    {
     "name": "stdout",
     "output_type": "stream",
     "text": [
      "[[ 43  72  38]\n",
      " [ 37 182 176]\n",
      " [  8 121 408]]\n",
      "0.5834101382488479\n"
     ]
    }
   ],
   "source": [
    "# check against the test set\n",
    "\n",
    "from sklearn.metrics import confusion_matrix, accuracy_score\n",
    "\n",
    "predictions = model.predict_classes(x_test)\n",
    "truth = y_test.argmax(1)\n",
    "\n",
    "print(confusion_matrix(truth, predictions))\n",
    "print(accuracy_score(truth, predictions))"
   ]
  },
  {
   "cell_type": "code",
   "execution_count": 276,
   "metadata": {},
   "outputs": [
    {
     "data": {
      "text/plain": [
       "{'I loved it!': 'positive',\n",
       " \"It's hard to say\": 'neutral',\n",
       " 'What a fucking piece of shit': 'negative'}"
      ]
     },
     "execution_count": 276,
     "metadata": {},
     "output_type": "execute_result"
    }
   ],
   "source": [
    "# test on our own input\n",
    "\n",
    "def classify(text):\n",
    "    text = preprocess(text)\n",
    "    test_seq = tokenizer.texts_to_sequences([text])\n",
    "    test_seq = sequence.pad_sequences(test_seq, maxlen=max_words)\n",
    "    predictions = model.predict_classes(test_seq)\n",
    "    return ohe.categories_[0][predictions[0]]\n",
    "\n",
    "phrases = [\"I loved it!\", \"It's hard to say\", \"What a fucking piece of shit\"]\n",
    "{ phrase: classify(phrase) for phrase in phrases }"
   ]
  },
  {
   "cell_type": "code",
   "execution_count": 265,
   "metadata": {},
   "outputs": [
    {
     "data": {
      "text/html": [
       "<div>\n",
       "<style scoped>\n",
       "    .dataframe tbody tr th:only-of-type {\n",
       "        vertical-align: middle;\n",
       "    }\n",
       "\n",
       "    .dataframe tbody tr th {\n",
       "        vertical-align: top;\n",
       "    }\n",
       "\n",
       "    .dataframe thead th {\n",
       "        text-align: right;\n",
       "    }\n",
       "</style>\n",
       "<table border=\"1\" class=\"dataframe\">\n",
       "  <thead>\n",
       "    <tr style=\"text-align: right;\">\n",
       "      <th></th>\n",
       "      <th>Id</th>\n",
       "      <th>Tweet</th>\n",
       "      <th>Category</th>\n",
       "    </tr>\n",
       "  </thead>\n",
       "  <tbody>\n",
       "    <tr>\n",
       "      <th>961</th>\n",
       "      <td>639046234817167360</td>\n",
       "      <td>Real Madrid get better of De Gea saga, Barca goalies also under pressure: While transfer deadline day may have... http://t.co/8iDvgc7zAN</td>\n",
       "      <td>positive</td>\n",
       "    </tr>\n",
       "    <tr>\n",
       "      <th>1906</th>\n",
       "      <td>620095662680506368</td>\n",
       "      <td>@HeidiFang Didn't Conor McGregor call it before the fight? Stoppage in the 2nd round.</td>\n",
       "      <td>neutral</td>\n",
       "    </tr>\n",
       "    <tr>\n",
       "      <th>1968</th>\n",
       "      <td>627796401594851328</td>\n",
       "      <td>Ronda is bringing a lot of new eyes to the UFC and I love it:) Conor McGregor vs Jose Aldo and Ronda Rousey vs Tate Dallas stadium in Dec.:)</td>\n",
       "      <td>positive</td>\n",
       "    </tr>\n",
       "    <tr>\n",
       "      <th>3794</th>\n",
       "      <td>641648280338886656</td>\n",
       "      <td>@OutnumberedFNC @ainsleyearhardt Hillary's 1st Tele News explan \"The server I used was set up by the Secret Service 4 the Pres\" Y 4gotten???</td>\n",
       "      <td>neutral</td>\n",
       "    </tr>\n",
       "    <tr>\n",
       "      <th>2624</th>\n",
       "      <td>626534517126352896</td>\n",
       "      <td>Who's in the pit for Eric Church's acoustic show on the Nashville riverfront tomorrow night?? THIS GUY</td>\n",
       "      <td>positive</td>\n",
       "    </tr>\n",
       "    <tr>\n",
       "      <th>95</th>\n",
       "      <td>641295194583797765</td>\n",
       "      <td>@Microsoft  turns to @Dell  and @HP  to help get Surface into the office http://t.co/54JIFKE6IF</td>\n",
       "      <td>negative</td>\n",
       "    </tr>\n",
       "    <tr>\n",
       "      <th>1090</th>\n",
       "      <td>641445727843975168</td>\n",
       "      <td>idk since Batman is a detective he may start to overthink and doubt himself. Superman.  https://t.co/pNaS8XYRy4</td>\n",
       "      <td>positive</td>\n",
       "    </tr>\n",
       "    <tr>\n",
       "      <th>550</th>\n",
       "      <td>633183008930009088</td>\n",
       "      <td>Migration the real European crisis - Angela Merkel https://t.co/9Z5Y9kEyVk</td>\n",
       "      <td>neutral</td>\n",
       "    </tr>\n",
       "    <tr>\n",
       "      <th>535</th>\n",
       "      <td>626078949630722048</td>\n",
       "      <td>MOSCOW, May 6 (Reuters) - Russian President Vladimir Putin and German Chancellor Angela Merkel will discuss the crisis in Ukraine at talks</td>\n",
       "      <td>neutral</td>\n",
       "    </tr>\n",
       "    <tr>\n",
       "      <th>1977</th>\n",
       "      <td>631064431175335936</td>\n",
       "      <td>Conor McGregor  vs Jose Aldo scheduled for Dec 12. That means we only have 3 mths until Aldo announces he's withdrawing due to 'injury' #UFC</td>\n",
       "      <td>neutral</td>\n",
       "    </tr>\n",
       "  </tbody>\n",
       "</table>\n",
       "</div>"
      ],
      "text/plain": [
       "                      Id  \\\n",
       "961   639046234817167360   \n",
       "1906  620095662680506368   \n",
       "1968  627796401594851328   \n",
       "3794  641648280338886656   \n",
       "2624  626534517126352896   \n",
       "95    641295194583797765   \n",
       "1090  641445727843975168   \n",
       "550   633183008930009088   \n",
       "535   626078949630722048   \n",
       "1977  631064431175335936   \n",
       "\n",
       "                                                                                                                                             Tweet  \\\n",
       "961       Real Madrid get better of De Gea saga, Barca goalies also under pressure: While transfer deadline day may have... http://t.co/8iDvgc7zAN   \n",
       "1906                                                         @HeidiFang Didn't Conor McGregor call it before the fight? Stoppage in the 2nd round.   \n",
       "1968  Ronda is bringing a lot of new eyes to the UFC and I love it:) Conor McGregor vs Jose Aldo and Ronda Rousey vs Tate Dallas stadium in Dec.:)   \n",
       "3794  @OutnumberedFNC @ainsleyearhardt Hillary's 1st Tele News explan \"The server I used was set up by the Secret Service 4 the Pres\" Y 4gotten???   \n",
       "2624                                        Who's in the pit for Eric Church's acoustic show on the Nashville riverfront tomorrow night?? THIS GUY   \n",
       "95                                                 @Microsoft  turns to @Dell  and @HP  to help get Surface into the office http://t.co/54JIFKE6IF   \n",
       "1090                               idk since Batman is a detective he may start to overthink and doubt himself. Superman.  https://t.co/pNaS8XYRy4   \n",
       "550                                                                     Migration the real European crisis - Angela Merkel https://t.co/9Z5Y9kEyVk   \n",
       "535     MOSCOW, May 6 (Reuters) - Russian President Vladimir Putin and German Chancellor Angela Merkel will discuss the crisis in Ukraine at talks   \n",
       "1977  Conor McGregor  vs Jose Aldo scheduled for Dec 12. That means we only have 3 mths until Aldo announces he's withdrawing due to 'injury' #UFC   \n",
       "\n",
       "      Category  \n",
       "961   positive  \n",
       "1906   neutral  \n",
       "1968  positive  \n",
       "3794   neutral  \n",
       "2624  positive  \n",
       "95    negative  \n",
       "1090  positive  \n",
       "550    neutral  \n",
       "535    neutral  \n",
       "1977   neutral  "
      ]
     },
     "execution_count": 265,
     "metadata": {},
     "output_type": "execute_result"
    }
   ],
   "source": [
    "# predict categories on the external test set\n",
    "\n",
    "def classify_array(texts):\n",
    "    texts = [preprocess(text) for text in texts]\n",
    "    sequences = tokenizer.texts_to_sequences(texts)\n",
    "    sequences = sequence.pad_sequences(sequences, maxlen=max_words)\n",
    "    predictions = model.predict_classes(sequences)\n",
    "    return ohe.categories_[0][predictions]\n",
    "\n",
    "test_tweets = pandas.read_csv('data/test.csv', dtype={'Id': str, 'Tweet': str})\n",
    "test_tweets['Category'] = classify_array(test_tweets.Tweet)\n",
    "\n",
    "with open('predictions.csv', 'wt') as f:\n",
    "    f.write(\"Id,Category\\n\")\n",
    "    for i, row in test_tweets.iterrows():\n",
    "        f.write(f\"{row.Id},{row.Category}\\n\")\n",
    "\n",
    "test_tweets.sample(10)"
   ]
  }
 ],
 "metadata": {
  "kernelspec": {
   "display_name": "Python 3",
   "language": "python",
   "name": "python3"
  },
  "language_info": {
   "codemirror_mode": {
    "name": "ipython",
    "version": 3
   },
   "file_extension": ".py",
   "mimetype": "text/x-python",
   "name": "python",
   "nbconvert_exporter": "python",
   "pygments_lexer": "ipython3",
   "version": "3.7.3"
  }
 },
 "nbformat": 4,
 "nbformat_minor": 2
}
